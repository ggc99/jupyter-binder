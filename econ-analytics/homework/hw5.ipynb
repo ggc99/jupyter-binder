{
 "cells": [
  {
   "cell_type": "markdown",
   "id": "21d1e83c-9b58-4e42-b475-fa9551ae12ee",
   "metadata": {
    "tags": []
   },
   "source": [
    "### <font color='darkred'> HW5\n",
    "    \n",
    "* Use the dataset, \"Hitters.csv\", posted on BB to explain/predict a baseball player’s salary <u> using a subset of covariates in the dataset </u>.\n",
    "    \n",
    "* In order to select a subset of covariates, do the following:\n",
    "    - Forward and backward stepwise selections based on AIC and BIC\n",
    "    - LASSO Estimations with CV, AIC and BIC\n",
    "    - Produce tables or figures or both to summarize your results\n",
    "    \n",
    "* For this exercise, you need to take care of missing values and also generate dummies for some variables"
   ]
  },
  {
   "cell_type": "code",
   "execution_count": 3,
   "id": "970157b8-a36c-46db-845c-faaa1c8c96f3",
   "metadata": {},
   "outputs": [],
   "source": [
    "# Import packages\n",
    "import numpy as np\n",
    "import pandas as pd\n",
    "import math\n",
    "import matplotlib.pyplot as plt\n",
    "\n",
    "\n",
    "# Read data\n",
    "raw0 =pd.read_csv('../data/Hitters.csv')\n",
    "\n",
    "# Convert variables to dummies\n",
    "raw0 = pd.get_dummies(raw0.iloc[:,1:])\n",
    "\n",
    "# Drop rows with NaN\n",
    "raw_data = raw0.dropna()\n",
    "\n",
    "col_names = raw0.columns\n",
    "\n",
    "X_col = list(col_names[:16]) + list(col_names[17:])\n",
    "Y_col = 'Salary'"
   ]
  },
  {
   "cell_type": "code",
   "execution_count": 4,
   "id": "710e4cd4-ab31-4b49-9b54-283df58c86ea",
   "metadata": {},
   "outputs": [
    {
     "name": "stdout",
     "output_type": "stream",
     "text": [
      "   AtBat  Hits  HmRun  Runs  RBI  Walks  Years  CAtBat  CHits  CHmRun  ...  \\\n",
      "1    315    81      7    24   38     39     14    3449    835      69  ...   \n",
      "2    479   130     18    66   72     76      3    1624    457      63  ...   \n",
      "3    496   141     20    65   78     37     11    5628   1575     225  ...   \n",
      "4    321    87     10    39   42     30      2     396    101      12  ...   \n",
      "5    594   169      4    74   51     35     11    4408   1133      19  ...   \n",
      "\n",
      "   PutOuts  Assists  Errors  Salary  League_A  League_N  Division_E  \\\n",
      "1      632       43      10   475.0         0         1           0   \n",
      "2      880       82      14   480.0         1         0           0   \n",
      "3      200       11       3   500.0         0         1           1   \n",
      "4      805       40       4    91.5         0         1           1   \n",
      "5      282      421      25   750.0         1         0           0   \n",
      "\n",
      "   Division_W  NewLeague_A  NewLeague_N  \n",
      "1           1            0            1  \n",
      "2           1            1            0  \n",
      "3           0            0            1  \n",
      "4           0            0            1  \n",
      "5           1            1            0  \n",
      "\n",
      "[5 rows x 23 columns]\n"
     ]
    }
   ],
   "source": [
    "print(raw_data.head())"
   ]
  },
  {
   "cell_type": "markdown",
   "id": "13ce8b8f-30b4-41be-87a5-13b4cfceed3c",
   "metadata": {},
   "source": [
    "## <font color='Blue'> Forward Selection and Backward Selection "
   ]
  },
  {
   "cell_type": "code",
   "execution_count": 5,
   "id": "602d7747-07ad-441d-9ef4-44026e2b1ed1",
   "metadata": {},
   "outputs": [],
   "source": [
    "# Import packages\n",
    "import statsmodels.api as sm\n",
    "\n",
    "# Initalize variables\n",
    "Y = raw_data[Y_col].values\n",
    "X = raw_data[X_col].values\n",
    "ncol = ncol=X.shape[1]"
   ]
  },
  {
   "cell_type": "markdown",
   "id": "051b81b2-5dc0-4733-be1e-c28b208e982e",
   "metadata": {
    "tags": []
   },
   "source": [
    "### Forward Selection BIC"
   ]
  },
  {
   "cell_type": "code",
   "execution_count": 6,
   "id": "586d6bbe-d75f-4ea5-95fe-89a76365ff1c",
   "metadata": {},
   "outputs": [],
   "source": [
    "pcand = list(range(ncol)) # A list to keep track of the set of predictors left to add to the model at each iteration\n",
    "psel = [] # A list to keep track of the selected predictors at each iteration (the order of the selected predictors)\n",
    "tb = np.zeros(ncol) # A vector to store the BIC of the selected model at each iteration\n",
    "p = 0 # Iteration idex\n",
    "\n",
    "while len(psel) != ncol: # Repeat below until the model includes all the predictors\n",
    "    tb0 = np.zeros((len(pcand),2)) # Store Rsquare(s) and BIC(s) of the models under consideration at each iteration\n",
    "\n",
    "    for i in range(0,len(pcand)):\n",
    "        psel0 = psel + [pcand[i]] # \"psel0\" is a temporary version of psel which includes one of the predictors in pcan and those in psel\n",
    "        # Caution: \"+\" combines two lists, but not a list and an integer (i.e pcan[i])\n",
    "        XX = X[:,psel0]\n",
    "        XX = sm.add_constant(XX)\n",
    "        model = sm.OLS(Y, XX)\n",
    "        res = model.fit()\n",
    "        tb0[i,:] = [res.rsquared, res.bic]\n",
    "    \n",
    "    ind = np.argmax(tb0[:,0]) # Find the regressor that results in the largest Rsquare when added to the model\n",
    "    psel = psel + [pcand[ind]] # Add the selected regressor to psel\n",
    "    pcand.remove(pcand[ind]) # Remove the selected regressor from pcand\n",
    "    tb[p] =  tb0[ind,1] # Store the BIC of the selected model at this iteration\n",
    "    p += 1"
   ]
  },
  {
   "cell_type": "code",
   "execution_count": 7,
   "id": "8108bc9f-0eb7-4938-8008-d3f1997526a9",
   "metadata": {},
   "outputs": [],
   "source": [
    "# Model selected \n",
    "psel_forward = psel.copy()\n",
    "tb_forward = tb.copy()\n",
    "\n",
    "model_selected_forward_bic = psel_forward[:(np.argmin(tb)+1)]\n",
    "BIC_forward = min(tb)\n",
    "model_selected_var_names_forward_bic = [raw_data.columns[x] for x in model_selected_forward_bic]"
   ]
  },
  {
   "cell_type": "markdown",
   "id": "dd684b5e-00b8-437c-b25e-696cace589a4",
   "metadata": {
    "tags": []
   },
   "source": [
    "### Forward Selection AIC"
   ]
  },
  {
   "cell_type": "code",
   "execution_count": 8,
   "id": "192d1020-c129-4ca3-a0f2-2c4814bbe29a",
   "metadata": {},
   "outputs": [],
   "source": [
    "pcand = list(range(ncol)) # A list to keep track of the set of predictors left to add to the model at each iteration\n",
    "psel = [] # A list to keep track of the selected predictors at each iteration (the order of the selected predictors)\n",
    "tb = np.zeros(ncol) # A vector to store the BIC of the selected model at each iteration\n",
    "p = 0 # Iteration idex\n",
    "\n",
    "while len(psel) != ncol: # Repeat below until the model includes all the predictors\n",
    "    tb0 = np.zeros((len(pcand),2)) # Store Rsquare(s) and BIC(s) of the models under consideration at each iteration\n",
    "\n",
    "    for i in range(0,len(pcand)):\n",
    "        psel0 = psel + [pcand[i]] # \"psel0\" is a temporary version of psel which includes one of the predictors in pcan and those in psel\n",
    "        # Caution: \"+\" combines two lists, but not a list and an integer (i.e pcan[i])\n",
    "        XX = X[:,psel0]\n",
    "        XX = sm.add_constant(XX)\n",
    "        model = sm.OLS(Y, XX)\n",
    "        res = model.fit()\n",
    "        tb0[i,:] = [res.rsquared, res.aic]\n",
    "    \n",
    "    ind = np.argmax(tb0[:,0]) # Find the regressor that results in the largest Rsquare when added to the model\n",
    "    psel = psel + [pcand[ind]] # Add the selected regressor to psel\n",
    "    pcand.remove(pcand[ind]) # Remove the selected regressor from pcand\n",
    "    tb[p] =  tb0[ind,1] # Store the BIC of the selected model at this iteration\n",
    "    p += 1"
   ]
  },
  {
   "cell_type": "code",
   "execution_count": 9,
   "id": "f85d74e2-4de8-4652-8433-aa140c6db849",
   "metadata": {},
   "outputs": [],
   "source": [
    "# Model selected \n",
    "psel_forward = psel.copy()\n",
    "tb_forward = tb.copy()\n",
    "\n",
    "model_selected_forward_aic = psel_forward[:(np.argmin(tb)+1)]\n",
    "AIC_forward = min(tb)\n",
    "model_selected_var_names_forward_aic = [X_col[x] for x in model_selected_forward_aic]"
   ]
  },
  {
   "cell_type": "markdown",
   "id": "957b5e52-7f9e-4c25-8046-91507e2899a7",
   "metadata": {
    "tags": []
   },
   "source": [
    "### Backward Selection BIC"
   ]
  },
  {
   "cell_type": "code",
   "execution_count": 10,
   "id": "31a9dde1-4bfd-4da8-b3e7-2f1a194bad50",
   "metadata": {},
   "outputs": [],
   "source": [
    "pcand = list(range(ncol)) \n",
    "psel = [] \n",
    "tb = np.zeros(ncol) \n",
    "p = 0 \n",
    "\n",
    "while len(psel) != ncol: \n",
    "    tb0 = np.zeros((len(pcand),2)) \n",
    "\n",
    "    for i in range(0,len(pcand)):\n",
    "        psel0 = pcand.copy() # line 1\n",
    "        psel0.remove(psel0[i]) # line 2\n",
    "        XX = X[:,psel0]\n",
    "        XX = sm.add_constant(XX)\n",
    "        res = sm.OLS(Y, XX).fit()\n",
    "        tb0[i,:] = [res.rsquared, res.bic]\n",
    "    \n",
    "    ind = np.argmax(tb0[:,0]) \n",
    "    psel = psel + [pcand[ind]] \n",
    "    pcand.remove(pcand[ind]) \n",
    "    tb[p] =  tb0[ind,1] \n",
    "    p += 1"
   ]
  },
  {
   "cell_type": "code",
   "execution_count": 11,
   "id": "e4b82b25-e51a-4e5c-b978-81481b1e6044",
   "metadata": {},
   "outputs": [],
   "source": [
    "# Model selected \n",
    "psel_backward = psel.copy()\n",
    "tb_backward = tb.copy()\n",
    "\n",
    "model_selected_backward = psel_backward[np.argmin(tb):]\n",
    "BIC_forward = min(tb)\n",
    "model_selected_var_names_backward_bic = [X_col[x] for x in model_selected_backward]"
   ]
  },
  {
   "cell_type": "markdown",
   "id": "3d2d551f-4a46-4d90-afd7-f67015733170",
   "metadata": {
    "tags": []
   },
   "source": [
    "### Backward Selection BIC"
   ]
  },
  {
   "cell_type": "code",
   "execution_count": 12,
   "id": "0cf5cfd0-8a4f-481b-bc9b-bd5b5f39265e",
   "metadata": {},
   "outputs": [],
   "source": [
    "pcand = list(range(ncol)) \n",
    "psel = [] \n",
    "tb = np.zeros(ncol) \n",
    "p = 0 \n",
    "\n",
    "while len(psel) != ncol: \n",
    "    tb0 = np.zeros((len(pcand),2)) \n",
    "\n",
    "    for i in range(0,len(pcand)):\n",
    "        psel0 = pcand.copy() # line 1\n",
    "        psel0.remove(psel0[i]) # line 2\n",
    "        XX = X[:,psel0]\n",
    "        XX = sm.add_constant(XX)\n",
    "        res = sm.OLS(Y, XX).fit()\n",
    "        tb0[i,:] = [res.rsquared, res.aic]\n",
    "    \n",
    "    ind = np.argmax(tb0[:,0]) \n",
    "    psel = psel + [pcand[ind]] \n",
    "    pcand.remove(pcand[ind]) \n",
    "    tb[p] =  tb0[ind,1] \n",
    "    p += 1"
   ]
  },
  {
   "cell_type": "code",
   "execution_count": 13,
   "id": "8fc00784-4c88-4c57-a2d4-63980a0ee96d",
   "metadata": {},
   "outputs": [],
   "source": [
    "# Model selected \n",
    "psel_backward = psel.copy()\n",
    "tb_backward = tb.copy()\n",
    "\n",
    "model_selected_backward_aic = psel_backward[np.argmin(tb):]\n",
    "AIC_backward = min(tb)\n",
    "model_selected_var_names_backward_aic = [X_col[x] for x in model_selected_backward]"
   ]
  },
  {
   "cell_type": "markdown",
   "id": "2bc66769-486a-4f84-860c-d6b5a2fb4c0f",
   "metadata": {},
   "source": [
    "## <font color='Blue'> LASSO Selection"
   ]
  },
  {
   "cell_type": "code",
   "execution_count": 14,
   "id": "0e7d3041-ef88-4620-aced-e2dedeaac712",
   "metadata": {},
   "outputs": [],
   "source": [
    "# Import packages\n",
    "from sklearn.linear_model import LassoLarsCV, LassoLarsIC\n",
    "from sklearn import linear_model\n",
    "\n",
    "# Initalize variables\n",
    "Y = raw_data[Y_col].values\n",
    "X = raw_data[X_col].values \n",
    "eps = 1e-10\n",
    "\n",
    "# Standardize Values\n",
    "from sklearn.preprocessing import StandardScaler\n",
    "\n",
    "X_no_scale = X.copy()\n",
    "scaler = StandardScaler()\n",
    "scaler.fit(X)\n",
    "X = scaler.transform(X)"
   ]
  },
  {
   "cell_type": "markdown",
   "id": "36670212-9e33-4870-b8d9-d9cf895f7b24",
   "metadata": {},
   "source": [
    "### CV"
   ]
  },
  {
   "cell_type": "code",
   "execution_count": 15,
   "id": "55dbadfd-10b7-41da-aaf3-b022c5c517d1",
   "metadata": {},
   "outputs": [
    {
     "name": "stderr",
     "output_type": "stream",
     "text": [
      "/srv/conda/envs/notebook/lib/python3.7/site-packages/sklearn/linear_model/_base.py:138: FutureWarning: The default of 'normalize' will be set to False in version 1.2 and deprecated in version 1.4.\n",
      "If you wish to scale the data, use Pipeline with a StandardScaler in a preprocessing stage. To reproduce the previous behavior:\n",
      "\n",
      "from sklearn.pipeline import make_pipeline\n",
      "\n",
      "model = make_pipeline(StandardScaler(with_mean=False), LassoLarsCV())\n",
      "\n",
      "If you wish to pass a sample_weight parameter, you need to pass it as a fit parameter to each step of the pipeline as follows:\n",
      "\n",
      "kwargs = {s[0] + '__sample_weight': sample_weight for s in model.steps}\n",
      "model.fit(X, y, **kwargs)\n",
      "\n",
      "Set parameter alpha to: original_alpha * np.sqrt(n_samples). \n",
      "  FutureWarning,\n",
      "/srv/conda/envs/notebook/lib/python3.7/site-packages/sklearn/linear_model/_least_angle.py:660: ConvergenceWarning: Regressors in active set degenerate. Dropping a regressor, after 10 iterations, i.e. alpha=1.213e+00, with an active set of 8 regressors, and the smallest cholesky pivot element being 1.054e-08. Reduce max_iter or increase eps parameters.\n",
      "  ConvergenceWarning,\n",
      "/srv/conda/envs/notebook/lib/python3.7/site-packages/sklearn/linear_model/_least_angle.py:660: ConvergenceWarning: Regressors in active set degenerate. Dropping a regressor, after 10 iterations, i.e. alpha=1.213e+00, with an active set of 8 regressors, and the smallest cholesky pivot element being 2.220e-16. Reduce max_iter or increase eps parameters.\n",
      "  ConvergenceWarning,\n",
      "/srv/conda/envs/notebook/lib/python3.7/site-packages/sklearn/linear_model/_least_angle.py:660: ConvergenceWarning: Regressors in active set degenerate. Dropping a regressor, after 16 iterations, i.e. alpha=5.913e-01, with an active set of 12 regressors, and the smallest cholesky pivot element being 1.054e-08. Reduce max_iter or increase eps parameters.\n",
      "  ConvergenceWarning,\n",
      "/srv/conda/envs/notebook/lib/python3.7/site-packages/sklearn/linear_model/_least_angle.py:660: ConvergenceWarning: Regressors in active set degenerate. Dropping a regressor, after 23 iterations, i.e. alpha=3.107e-01, with an active set of 15 regressors, and the smallest cholesky pivot element being 2.220e-16. Reduce max_iter or increase eps parameters.\n",
      "  ConvergenceWarning,\n",
      "/srv/conda/envs/notebook/lib/python3.7/site-packages/sklearn/linear_model/_least_angle.py:660: ConvergenceWarning: Regressors in active set degenerate. Dropping a regressor, after 23 iterations, i.e. alpha=2.687e-01, with an active set of 15 regressors, and the smallest cholesky pivot element being 2.220e-16. Reduce max_iter or increase eps parameters.\n",
      "  ConvergenceWarning,\n",
      "/srv/conda/envs/notebook/lib/python3.7/site-packages/sklearn/linear_model/_least_angle.py:660: ConvergenceWarning: Regressors in active set degenerate. Dropping a regressor, after 24 iterations, i.e. alpha=2.555e-01, with an active set of 16 regressors, and the smallest cholesky pivot element being 1.490e-08. Reduce max_iter or increase eps parameters.\n",
      "  ConvergenceWarning,\n",
      "/srv/conda/envs/notebook/lib/python3.7/site-packages/sklearn/linear_model/_least_angle.py:688: ConvergenceWarning: Early stopping the lars path, as the residues are small and the current value of alpha is no longer well controlled. 25 iterations, alpha=2.554e-01, previous alpha=4.636e-02, with an active set of 16 regressors.\n",
      "  ConvergenceWarning,\n",
      "/srv/conda/envs/notebook/lib/python3.7/site-packages/sklearn/linear_model/_least_angle.py:660: ConvergenceWarning: Regressors in active set degenerate. Dropping a regressor, after 6 iterations, i.e. alpha=1.681e+00, with an active set of 6 regressors, and the smallest cholesky pivot element being 2.220e-16. Reduce max_iter or increase eps parameters.\n",
      "  ConvergenceWarning,\n",
      "/srv/conda/envs/notebook/lib/python3.7/site-packages/sklearn/linear_model/_least_angle.py:660: ConvergenceWarning: Regressors in active set degenerate. Dropping a regressor, after 8 iterations, i.e. alpha=1.145e+00, with an active set of 8 regressors, and the smallest cholesky pivot element being 2.220e-16. Reduce max_iter or increase eps parameters.\n",
      "  ConvergenceWarning,\n",
      "/srv/conda/envs/notebook/lib/python3.7/site-packages/sklearn/linear_model/_least_angle.py:660: ConvergenceWarning: Regressors in active set degenerate. Dropping a regressor, after 8 iterations, i.e. alpha=1.145e+00, with an active set of 8 regressors, and the smallest cholesky pivot element being 1.490e-08. Reduce max_iter or increase eps parameters.\n",
      "  ConvergenceWarning,\n",
      "/srv/conda/envs/notebook/lib/python3.7/site-packages/sklearn/linear_model/_least_angle.py:660: ConvergenceWarning: Regressors in active set degenerate. Dropping a regressor, after 8 iterations, i.e. alpha=9.879e-01, with an active set of 8 regressors, and the smallest cholesky pivot element being 1.490e-08. Reduce max_iter or increase eps parameters.\n",
      "  ConvergenceWarning,\n",
      "/srv/conda/envs/notebook/lib/python3.7/site-packages/sklearn/linear_model/_least_angle.py:660: ConvergenceWarning: Regressors in active set degenerate. Dropping a regressor, after 12 iterations, i.e. alpha=4.208e-01, with an active set of 12 regressors, and the smallest cholesky pivot element being 2.220e-16. Reduce max_iter or increase eps parameters.\n",
      "  ConvergenceWarning,\n",
      "/srv/conda/envs/notebook/lib/python3.7/site-packages/sklearn/linear_model/_least_angle.py:660: ConvergenceWarning: Regressors in active set degenerate. Dropping a regressor, after 12 iterations, i.e. alpha=4.208e-01, with an active set of 12 regressors, and the smallest cholesky pivot element being 1.490e-08. Reduce max_iter or increase eps parameters.\n",
      "  ConvergenceWarning,\n",
      "/srv/conda/envs/notebook/lib/python3.7/site-packages/sklearn/linear_model/_least_angle.py:688: ConvergenceWarning: Early stopping the lars path, as the residues are small and the current value of alpha is no longer well controlled. 14 iterations, alpha=4.156e-01, previous alpha=3.806e-01, with an active set of 13 regressors.\n",
      "  ConvergenceWarning,\n",
      "/srv/conda/envs/notebook/lib/python3.7/site-packages/sklearn/linear_model/_least_angle.py:660: ConvergenceWarning: Regressors in active set degenerate. Dropping a regressor, after 7 iterations, i.e. alpha=1.268e+00, with an active set of 7 regressors, and the smallest cholesky pivot element being 1.490e-08. Reduce max_iter or increase eps parameters.\n",
      "  ConvergenceWarning,\n",
      "/srv/conda/envs/notebook/lib/python3.7/site-packages/sklearn/linear_model/_least_angle.py:660: ConvergenceWarning: Regressors in active set degenerate. Dropping a regressor, after 9 iterations, i.e. alpha=1.031e+00, with an active set of 9 regressors, and the smallest cholesky pivot element being 1.490e-08. Reduce max_iter or increase eps parameters.\n",
      "  ConvergenceWarning,\n",
      "/srv/conda/envs/notebook/lib/python3.7/site-packages/sklearn/linear_model/_least_angle.py:660: ConvergenceWarning: Regressors in active set degenerate. Dropping a regressor, after 12 iterations, i.e. alpha=5.100e-01, with an active set of 12 regressors, and the smallest cholesky pivot element being 1.490e-08. Reduce max_iter or increase eps parameters.\n",
      "  ConvergenceWarning,\n",
      "/srv/conda/envs/notebook/lib/python3.7/site-packages/sklearn/linear_model/_least_angle.py:688: ConvergenceWarning: Early stopping the lars path, as the residues are small and the current value of alpha is no longer well controlled. 16 iterations, alpha=4.012e-01, previous alpha=3.408e-01, with an active set of 15 regressors.\n",
      "  ConvergenceWarning,\n",
      "/srv/conda/envs/notebook/lib/python3.7/site-packages/sklearn/linear_model/_least_angle.py:660: ConvergenceWarning: Regressors in active set degenerate. Dropping a regressor, after 8 iterations, i.e. alpha=6.493e-01, with an active set of 8 regressors, and the smallest cholesky pivot element being 2.220e-16. Reduce max_iter or increase eps parameters.\n",
      "  ConvergenceWarning,\n",
      "/srv/conda/envs/notebook/lib/python3.7/site-packages/sklearn/linear_model/_least_angle.py:660: ConvergenceWarning: Regressors in active set degenerate. Dropping a regressor, after 10 iterations, i.e. alpha=6.418e-01, with an active set of 10 regressors, and the smallest cholesky pivot element being 2.220e-16. Reduce max_iter or increase eps parameters.\n",
      "  ConvergenceWarning,\n",
      "/srv/conda/envs/notebook/lib/python3.7/site-packages/sklearn/linear_model/_least_angle.py:688: ConvergenceWarning: Early stopping the lars path, as the residues are small and the current value of alpha is no longer well controlled. 11 iterations, alpha=6.305e-01, previous alpha=6.177e-01, with an active set of 10 regressors.\n",
      "  ConvergenceWarning,\n",
      "/srv/conda/envs/notebook/lib/python3.7/site-packages/sklearn/linear_model/_least_angle.py:660: ConvergenceWarning: Regressors in active set degenerate. Dropping a regressor, after 10 iterations, i.e. alpha=6.112e-01, with an active set of 10 regressors, and the smallest cholesky pivot element being 2.220e-16. Reduce max_iter or increase eps parameters.\n",
      "  ConvergenceWarning,\n",
      "/srv/conda/envs/notebook/lib/python3.7/site-packages/sklearn/linear_model/_least_angle.py:660: ConvergenceWarning: Regressors in active set degenerate. Dropping a regressor, after 14 iterations, i.e. alpha=2.635e-01, with an active set of 14 regressors, and the smallest cholesky pivot element being 1.490e-08. Reduce max_iter or increase eps parameters.\n",
      "  ConvergenceWarning,\n",
      "/srv/conda/envs/notebook/lib/python3.7/site-packages/sklearn/linear_model/_least_angle.py:660: ConvergenceWarning: Regressors in active set degenerate. Dropping a regressor, after 14 iterations, i.e. alpha=2.635e-01, with an active set of 14 regressors, and the smallest cholesky pivot element being 2.220e-16. Reduce max_iter or increase eps parameters.\n",
      "  ConvergenceWarning,\n",
      "/srv/conda/envs/notebook/lib/python3.7/site-packages/sklearn/linear_model/_least_angle.py:660: ConvergenceWarning: Regressors in active set degenerate. Dropping a regressor, after 18 iterations, i.e. alpha=1.212e-01, with an active set of 16 regressors, and the smallest cholesky pivot element being 2.220e-16. Reduce max_iter or increase eps parameters.\n",
      "  ConvergenceWarning,\n",
      "/srv/conda/envs/notebook/lib/python3.7/site-packages/sklearn/linear_model/_least_angle.py:660: ConvergenceWarning: Regressors in active set degenerate. Dropping a regressor, after 18 iterations, i.e. alpha=1.212e-01, with an active set of 16 regressors, and the smallest cholesky pivot element being 1.490e-08. Reduce max_iter or increase eps parameters.\n",
      "  ConvergenceWarning,\n",
      "/srv/conda/envs/notebook/lib/python3.7/site-packages/sklearn/linear_model/_least_angle.py:660: ConvergenceWarning: Regressors in active set degenerate. Dropping a regressor, after 19 iterations, i.e. alpha=6.396e-02, with an active set of 17 regressors, and the smallest cholesky pivot element being 2.220e-16. Reduce max_iter or increase eps parameters.\n",
      "  ConvergenceWarning,\n",
      "/srv/conda/envs/notebook/lib/python3.7/site-packages/sklearn/linear_model/_least_angle.py:660: ConvergenceWarning: Regressors in active set degenerate. Dropping a regressor, after 20 iterations, i.e. alpha=4.359e-02, with an active set of 18 regressors, and the smallest cholesky pivot element being 2.220e-16. Reduce max_iter or increase eps parameters.\n",
      "  ConvergenceWarning,\n",
      "/srv/conda/envs/notebook/lib/python3.7/site-packages/sklearn/linear_model/_least_angle.py:660: ConvergenceWarning: Regressors in active set degenerate. Dropping a regressor, after 20 iterations, i.e. alpha=4.359e-02, with an active set of 18 regressors, and the smallest cholesky pivot element being 1.490e-08. Reduce max_iter or increase eps parameters.\n",
      "  ConvergenceWarning,\n",
      "/srv/conda/envs/notebook/lib/python3.7/site-packages/sklearn/linear_model/_least_angle.py:660: ConvergenceWarning: Regressors in active set degenerate. Dropping a regressor, after 21 iterations, i.e. alpha=8.899e-03, with an active set of 19 regressors, and the smallest cholesky pivot element being 1.490e-08. Reduce max_iter or increase eps parameters.\n",
      "  ConvergenceWarning,\n",
      "/srv/conda/envs/notebook/lib/python3.7/site-packages/sklearn/linear_model/_least_angle.py:660: ConvergenceWarning: Regressors in active set degenerate. Dropping a regressor, after 21 iterations, i.e. alpha=1.797e-03, with an active set of 19 regressors, and the smallest cholesky pivot element being 1.490e-08. Reduce max_iter or increase eps parameters.\n",
      "  ConvergenceWarning,\n",
      "/srv/conda/envs/notebook/lib/python3.7/site-packages/sklearn/linear_model/_least_angle.py:660: ConvergenceWarning: Regressors in active set degenerate. Dropping a regressor, after 21 iterations, i.e. alpha=1.797e-03, with an active set of 19 regressors, and the smallest cholesky pivot element being 2.220e-16. Reduce max_iter or increase eps parameters.\n",
      "  ConvergenceWarning,\n"
     ]
    }
   ],
   "source": [
    "lascv = LassoLarsCV(cv=5).fit(X, Y)"
   ]
  },
  {
   "cell_type": "code",
   "execution_count": 16,
   "id": "d770cd54-40e7-4d74-908b-e9cea104022b",
   "metadata": {},
   "outputs": [],
   "source": [
    "alpha = lascv.alpha_"
   ]
  },
  {
   "cell_type": "code",
   "execution_count": 17,
   "id": "db1b4da9-2d70-4a27-b898-8328602a3476",
   "metadata": {},
   "outputs": [
    {
     "name": "stderr",
     "output_type": "stream",
     "text": [
      "/srv/conda/envs/notebook/lib/python3.7/site-packages/sklearn/linear_model/_coordinate_descent.py:648: ConvergenceWarning: Objective did not converge. You might want to increase the number of iterations, check the scale of the features or consider increasing regularisation. Duality gap: 2.466e+04, tolerance: 5.332e+03\n",
      "  coef_, l1_reg, l2_reg, X, y, max_iter, tol, rng, random, positive\n"
     ]
    }
   ],
   "source": [
    "las = linear_model.Lasso(alpha=alpha).fit(X,Y) # alpha is the tuning parameter"
   ]
  },
  {
   "cell_type": "markdown",
   "id": "9bb9ba5f-4ead-4c0c-9929-31fe297a7d1d",
   "metadata": {},
   "source": [
    "### BIC and AIC"
   ]
  },
  {
   "cell_type": "code",
   "execution_count": 18,
   "id": "b72babb2-56a8-4d07-b3cf-0f207f747c36",
   "metadata": {},
   "outputs": [
    {
     "name": "stderr",
     "output_type": "stream",
     "text": [
      "/srv/conda/envs/notebook/lib/python3.7/site-packages/sklearn/linear_model/_base.py:138: FutureWarning: The default of 'normalize' will be set to False in version 1.2 and deprecated in version 1.4.\n",
      "If you wish to scale the data, use Pipeline with a StandardScaler in a preprocessing stage. To reproduce the previous behavior:\n",
      "\n",
      "from sklearn.pipeline import make_pipeline\n",
      "\n",
      "model = make_pipeline(StandardScaler(with_mean=False), LassoLarsIC())\n",
      "\n",
      "If you wish to pass a sample_weight parameter, you need to pass it as a fit parameter to each step of the pipeline as follows:\n",
      "\n",
      "kwargs = {s[0] + '__sample_weight': sample_weight for s in model.steps}\n",
      "model.fit(X, y, **kwargs)\n",
      "\n",
      "Set parameter alpha to: original_alpha * np.sqrt(n_samples). \n",
      "  FutureWarning,\n",
      "/srv/conda/envs/notebook/lib/python3.7/site-packages/sklearn/linear_model/_least_angle.py:660: ConvergenceWarning: Regressors in active set degenerate. Dropping a regressor, after 19 iterations, i.e. alpha=2.860e-02, with an active set of 17 regressors, and the smallest cholesky pivot element being 2.220e-16. Reduce max_iter or increase eps parameters.\n",
      "  ConvergenceWarning,\n",
      "/srv/conda/envs/notebook/lib/python3.7/site-packages/sklearn/linear_model/_least_angle.py:660: ConvergenceWarning: Regressors in active set degenerate. Dropping a regressor, after 21 iterations, i.e. alpha=1.115e-02, with an active set of 19 regressors, and the smallest cholesky pivot element being 2.220e-16. Reduce max_iter or increase eps parameters.\n",
      "  ConvergenceWarning,\n",
      "/srv/conda/envs/notebook/lib/python3.7/site-packages/sklearn/linear_model/_least_angle.py:660: ConvergenceWarning: Regressors in active set degenerate. Dropping a regressor, after 21 iterations, i.e. alpha=1.115e-02, with an active set of 19 regressors, and the smallest cholesky pivot element being 1.490e-08. Reduce max_iter or increase eps parameters.\n",
      "  ConvergenceWarning,\n",
      "/srv/conda/envs/notebook/lib/python3.7/site-packages/sklearn/linear_model/_base.py:138: FutureWarning: The default of 'normalize' will be set to False in version 1.2 and deprecated in version 1.4.\n",
      "If you wish to scale the data, use Pipeline with a StandardScaler in a preprocessing stage. To reproduce the previous behavior:\n",
      "\n",
      "from sklearn.pipeline import make_pipeline\n",
      "\n",
      "model = make_pipeline(StandardScaler(with_mean=False), LassoLarsIC())\n",
      "\n",
      "If you wish to pass a sample_weight parameter, you need to pass it as a fit parameter to each step of the pipeline as follows:\n",
      "\n",
      "kwargs = {s[0] + '__sample_weight': sample_weight for s in model.steps}\n",
      "model.fit(X, y, **kwargs)\n",
      "\n",
      "Set parameter alpha to: original_alpha * np.sqrt(n_samples). \n",
      "  FutureWarning,\n",
      "/srv/conda/envs/notebook/lib/python3.7/site-packages/sklearn/linear_model/_least_angle.py:660: ConvergenceWarning: Regressors in active set degenerate. Dropping a regressor, after 19 iterations, i.e. alpha=2.860e-02, with an active set of 17 regressors, and the smallest cholesky pivot element being 2.220e-16. Reduce max_iter or increase eps parameters.\n",
      "  ConvergenceWarning,\n",
      "/srv/conda/envs/notebook/lib/python3.7/site-packages/sklearn/linear_model/_least_angle.py:660: ConvergenceWarning: Regressors in active set degenerate. Dropping a regressor, after 21 iterations, i.e. alpha=1.115e-02, with an active set of 19 regressors, and the smallest cholesky pivot element being 2.220e-16. Reduce max_iter or increase eps parameters.\n",
      "  ConvergenceWarning,\n",
      "/srv/conda/envs/notebook/lib/python3.7/site-packages/sklearn/linear_model/_least_angle.py:660: ConvergenceWarning: Regressors in active set degenerate. Dropping a regressor, after 21 iterations, i.e. alpha=1.115e-02, with an active set of 19 regressors, and the smallest cholesky pivot element being 1.490e-08. Reduce max_iter or increase eps parameters.\n",
      "  ConvergenceWarning,\n"
     ]
    }
   ],
   "source": [
    "lasic_bic = LassoLarsIC(criterion='bic').fit(X, Y)\n",
    "lasic_aic = LassoLarsIC(criterion='aic').fit(X, Y)\n",
    "\n",
    "# Access the Lasso estimates at the alpha selected by AIC and BIC\n",
    "lasso_aic = lasic_aic.coef_\n",
    "lasso_bic = lasic_bic.coef_"
   ]
  },
  {
   "cell_type": "markdown",
   "id": "a6e21257-3ce6-4f18-b203-4b906a5f6ecf",
   "metadata": {},
   "source": [
    "## <font color='Blue'> Summary"
   ]
  },
  {
   "cell_type": "code",
   "execution_count": 19,
   "id": "39222137-f5da-43a2-a396-3673393af321",
   "metadata": {},
   "outputs": [
    {
     "name": "stdout",
     "output_type": "stream",
     "text": [
      "Lasso CV tuned coefficients\n",
      "AtBat: -289.68015553142163\n",
      "Hits: 326.13334412407454\n",
      "HmRun: 24.678012386498484\n",
      "Runs: -47.52927346140862\n",
      "RBI: -12.523098402873481\n",
      "Walks: 129.3901222583898\n",
      "Years: -23.23786337394064\n",
      "CAtBat: -293.2480211852585\n",
      "CHits: 39.6532120908762\n",
      "CHmRun: 0.0\n",
      "CRuns: 448.0022026406147\n",
      "CRBI: 228.88684776279894\n",
      "CWalks: -206.60995488166998\n",
      "PutOuts: 78.98221295590994\n",
      "Assists: 49.107127218325225\n",
      "Errors: -20.774453719972843\n",
      "League_A: -28.132637443706567\n",
      "League_N: 2.9661782113726768e-12\n",
      "Division_E: 58.05706332410207\n",
      "Division_W: -3.88777645480418e-12\n",
      "NewLeague_A: 9.250351296346711\n",
      "NewLeague_N: -0.0\n",
      "\n",
      "Lasso AIC coefficients\n",
      "AtBat: -243.8682072471136\n",
      "Hits: 266.4012775256097\n",
      "HmRun: 0.0\n",
      "Runs: 0.0\n",
      "RBI: 0.0\n",
      "Walks: 106.60985957892501\n",
      "Years: -47.532008416057835\n",
      "CAtBat: 0.0\n",
      "CHits: 0.0\n",
      "CHmRun: 47.51250671279551\n",
      "CRuns: 230.64749688598638\n",
      "CRBI: 121.58874342435858\n",
      "CWalks: -151.07487185821017\n",
      "PutOuts: 76.98509398877259\n",
      "Assists: 27.894786291910307\n",
      "Errors: -14.454133446526885\n",
      "League_A: -16.402899640209895\n",
      "League_N: 0.0\n",
      "Division_E: 59.575621105326555\n",
      "Division_W: 0.0\n",
      "NewLeague_A: 0.0\n",
      "NewLeague_N: 0.0\n",
      "\n",
      "Lasso BIC coefficients\n",
      "AtBat: 0.0\n",
      "Hits: 83.79144232468326\n",
      "HmRun: 0.0\n",
      "Runs: 0.0\n",
      "RBI: 0.0\n",
      "Walks: 47.962180081250054\n",
      "Years: 0.0\n",
      "CAtBat: 0.0\n",
      "CHits: 0.0\n",
      "CHmRun: 0.0\n",
      "CRuns: 67.30564772853845\n",
      "CRBI: 133.7558746878184\n",
      "CWalks: 0.0\n",
      "PutOuts: 61.11779895536156\n",
      "Assists: 0.0\n",
      "Errors: 0.0\n",
      "League_A: 0.0\n",
      "League_N: 0.0\n",
      "Division_E: 51.0653178206533\n",
      "Division_W: 0.0\n",
      "NewLeague_A: 0.0\n",
      "NewLeague_N: 0.0\n",
      "\n",
      "Variables Selected using Forwards Selection with BIC\n",
      "['CRBI', 'Hits', 'PutOuts', 'League_N', 'AtBat', 'Walks']\n",
      "BIC score: 3812.7479908452106\n",
      "\n",
      "Variables Selected Forwards Selection using AIC\n",
      "['CRBI', 'Hits', 'PutOuts', 'Division_E', 'AtBat', 'Walks', 'CWalks', 'CRuns', 'CAtBat', 'Assists']\n",
      "AIC score: 3777.619775012732\n",
      "\n",
      "Variables Selected Backwards Selection using BIC\n",
      "['CAtBat', 'CRBI', 'CWalks', 'Division_E', 'Walks', 'AtBat', 'PutOuts', 'Hits', 'CRuns']\n",
      "BIC score: 3812.7479908452106\n",
      "\n",
      "Variables Selected Backwards Selection using AIC\n",
      "['CAtBat', 'CRBI', 'CWalks', 'Division_E', 'Walks', 'AtBat', 'PutOuts', 'Hits', 'CRuns']\n",
      "AIC score: 3777.619775012732\n"
     ]
    }
   ],
   "source": [
    "# Summary for Lasso CV\n",
    "print('Lasso CV tuned coefficients')\n",
    "for index, name in enumerate(X_col):\n",
    "    print(f'{name}: {las.coef_[index]}')\n",
    "\n",
    "\n",
    "# Summary for Lasso AIC\n",
    "print('\\nLasso AIC coefficients')\n",
    "for index, name in enumerate(X_col):\n",
    "    print(f'{name}: {lasso_aic[index]}') \n",
    "\n",
    "# Summary for Lasso BIC\n",
    "print('\\nLasso BIC coefficients')\n",
    "for index, name in enumerate(X_col):\n",
    "    print(f'{name}: {lasso_bic[index]}')\n",
    "\n",
    "# Summary for Forwards selection\n",
    "print('\\nVariables Selected using Forwards Selection with BIC')\n",
    "print(model_selected_var_names_forward_bic)\n",
    "print(f'BIC score: {BIC_forward}')\n",
    "\n",
    "print('\\nVariables Selected Forwards Selection using AIC')\n",
    "print(model_selected_var_names_forward_aic)\n",
    "print(f'AIC score: {AIC_forward}')\n",
    "\n",
    "# Summary for Backwards selection\n",
    "print('\\nVariables Selected Backwards Selection using BIC')\n",
    "print(model_selected_var_names_backward_bic)\n",
    "print(f'BIC score: {BIC_forward}')\n",
    "\n",
    "print('\\nVariables Selected Backwards Selection using AIC')\n",
    "print(model_selected_var_names_backward_aic)\n",
    "print(f'AIC score: {AIC_forward}')\n"
   ]
  },
  {
   "cell_type": "code",
   "execution_count": 20,
   "id": "1c0508fe-1876-466a-8bbd-c04d8b1fc1df",
   "metadata": {},
   "outputs": [
    {
     "data": {
      "image/png": "[encoded data removed]",
      "text/plain": [
       "<Figure size 640x560 with 1 Axes>"
      ]
     },
     "metadata": {
      "needs_background": "light"
     },
     "output_type": "display_data"
    }
   ],
   "source": [
    "# Building graphs to display results from AIC and BIC\n",
    "def plot_ic_criterion(model, name, color): \n",
    "    alpha_ = model.alpha_ + eps\n",
    "    alphas_ = model.alphas_ + eps\n",
    "    criterion_ = model.criterion_ # BIC or AIC values over the alpha values\n",
    "    plt.plot(np.log10(alphas_), criterion_, '--', color=color,\n",
    "             linewidth=3, label='%s' % name)\n",
    "    plt.axvline(np.log10(alpha_), color=color, linewidth=3,\n",
    "                label='$\\lambda$ selected by %s ' % name)\n",
    "    plt.xlabel('Log($\\lambda$)')\n",
    "    plt.ylabel('Criterion Value')\n",
    "    \n",
    "\n",
    "plt.figure(figsize=(8, 7), dpi=80)\n",
    "plot_ic_criterion(lasic_aic, 'AIC', 'b')\n",
    "plot_ic_criterion(lasic_bic, 'BIC', 'r')\n",
    "plt.legend()\n",
    "plt.title('Model Selection by Information Criteria')\n",
    "#plt.show()\n",
    "plt.savefig('lasso.png')"
   ]
  }
 ],
 "metadata": {
  "kernelspec": {
   "display_name": "Python 3 (ipykernel)",
   "language": "python",
   "name": "python3"
  },
  "language_info": {
   "codemirror_mode": {
    "name": "ipython",
    "version": 3
   },
   "file_extension": ".py",
   "mimetype": "text/x-python",
   "name": "python",
   "nbconvert_exporter": "python",
   "pygments_lexer": "ipython3",
   "version": "3.7.12"
  }
 },
 "nbformat": 4,
 "nbformat_minor": 5
}
