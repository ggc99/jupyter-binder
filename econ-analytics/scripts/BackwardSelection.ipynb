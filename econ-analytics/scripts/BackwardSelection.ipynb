{
 "cells": [
  {
   "cell_type": "code",
   "execution_count": null,
   "metadata": {},
   "outputs": [],
   "source": [
    "pcand = list(range(ncol)) \n",
    "psel = [] \n",
    "tb = np.zeros(ncol) \n",
    "p = 0 \n",
    "\n",
    "while len(psel) != ncol: \n",
    "    tb0 = np.zeros((len(pcand),2)) \n",
    "\n",
    "    for i in range(0,len(pcand)):\n",
    "        psel0 = pcand.copy() # line 1\n",
    "        psel0.remove(psel0[i]) # line 2\n",
    "        XX = X[:,psel0]\n",
    "        XX = sm.add_constant(XX)\n",
    "        res = sm.OLS(Y, XX).fit()\n",
    "        tb0[i,:] = [res.rsquared, res.bic]\n",
    "    \n",
    "    ind = np.argmax(tb0[:,0]) \n",
    "    psel = psel + [pcand[ind]] \n",
    "    pcand.remove(pcand[ind]) \n",
    "    tb[p] =  tb0[ind,1] \n",
    "    p += 1"
   ]
  },
  {
   "cell_type": "markdown",
   "metadata": {},
   "source": [
    "The following code would also work: replace line 1 and 2 with \"psel0 = np.delete(pcand,i)\""
   ]
  }
 ],
 "metadata": {
  "kernelspec": {
   "display_name": "Python 3 (ipykernel)",
   "language": "python",
   "name": "python3"
  },
  "language_info": {
   "codemirror_mode": {
    "name": "ipython",
    "version": 3
   },
   "file_extension": ".py",
   "mimetype": "text/x-python",
   "name": "python",
   "nbconvert_exporter": "python",
   "pygments_lexer": "ipython3",
   "version": "3.7.12"
  }
 },
 "nbformat": 4,
 "nbformat_minor": 4
}
